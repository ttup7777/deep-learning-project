{
 "cells": [
  {
   "cell_type": "code",
   "execution_count": null,
   "metadata": {},
   "outputs": [],
   "source": [
    "#  provide your path\n",
    "BASELINE_DATA = 'bias_madlibs_89k.csv'\n",
    "\n",
    "# try different thresholds\n",
    "THRESHOLD = 0.5"
   ]
  },
  {
   "cell_type": "code",
   "execution_count": null,
   "metadata": {},
   "outputs": [],
   "source": []
  },
  {
   "cell_type": "code",
   "execution_count": null,
   "metadata": {},
   "outputs": [],
   "source": [
    "def get_simple_label(results, threshold):\n",
    "    results = np.array(results)\n",
    "    if results[np.where( results > threshold )].size > 0:\n",
    "        return \"BAD\"\n",
    "    return \"NOT_BAD\""
   ]
  },
  {
   "cell_type": "code",
   "execution_count": null,
   "metadata": {},
   "outputs": [],
   "source": [
    "\n",
    "# data_set - list of texts\n",
    "# labels - labels of texts\n",
    "# model - your trained model\n",
    "# tokenizer - your tokenizer fitted on training data\n",
    "\n",
    "def eval_artifitial(data_set, labels, model, tokenizer):\n",
    "    list_tokenized = tokenizer.texts_to_sequences(data_set)\n",
    "    X_t = pad_sequences(list_tokenized, maxlen=maxlen)\n",
    "    \n",
    "    y =  model.predict(X_t, batch_size=1024, verbose=1)\n",
    "    scores = {\"correct\":0, \"wrong\":0}\n",
    "    \n",
    "    for i in range(len(y)):\n",
    "        simple_label = get_simple_label(y[i], THRESHOLD)\n",
    "        actual_label = labels[i]\n",
    "        \n",
    "        if simple_label == actual_label:\n",
    "            scores[\"correct\"] = scores[\"correct\"] + 1\n",
    "        else:\n",
    "            scores[\"wrong\"] = scores[\"wrong\"] + 1 \n",
    "            \n",
    "    return scores[\"correct\"] / len(y)\n",
    "        "
   ]
  },
  {
   "cell_type": "code",
   "execution_count": null,
   "metadata": {},
   "outputs": [],
   "source": [
    "# Read the data\n",
    "baseline_data = pd.read_csv(BASELINE_DATA, \",\")"
   ]
  },
  {
   "cell_type": "code",
   "execution_count": null,
   "metadata": {},
   "outputs": [],
   "source": [
    "# get texts and labels\n",
    "baseline_data_text = baseline_data[\"Text\"].values[:5000]\n",
    "baseline_labels = baseline_data[\"Label\"].values[:5000]"
   ]
  },
  {
   "cell_type": "code",
   "execution_count": null,
   "metadata": {},
   "outputs": [],
   "source": [
    "# call the function\n",
    "eval_artifitial(baseline_data_text, baseline_labels, new_model, tokenizer)"
   ]
  },
  {
   "cell_type": "code",
   "execution_count": null,
   "metadata": {},
   "outputs": [],
   "source": []
  }
 ],
 "metadata": {
  "kernelspec": {
   "display_name": "Python 3",
   "language": "python",
   "name": "python3"
  },
  "language_info": {
   "codemirror_mode": {
    "name": "ipython",
    "version": 3
   },
   "file_extension": ".py",
   "mimetype": "text/x-python",
   "name": "python",
   "nbconvert_exporter": "python",
   "pygments_lexer": "ipython3",
   "version": "3.7.1"
  }
 },
 "nbformat": 4,
 "nbformat_minor": 2
}
